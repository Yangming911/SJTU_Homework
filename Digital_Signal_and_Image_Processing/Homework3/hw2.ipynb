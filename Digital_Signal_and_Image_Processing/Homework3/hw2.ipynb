{
 "cells": [
  {
   "cell_type": "markdown",
   "metadata": {},
   "source": [
    "# 编程作业二\n",
    "对一个幅度为1，长度为10的矩形窗函数x(t)采样, 并对该函数进行傅里叶变换、低通滤波等操作，分析其时域和频域特性。"
   ]
  },
  {
   "cell_type": "markdown",
   "metadata": {},
   "source": [
    "## (1) 采样\n",
    "对矩形窗函数x(t)，以采样间隔ts进行采样，画出采样后的时域和频谱特性（采样间隔ts自己设置）。\n",
    "\n",
    "## (2) 延时采样\n",
    "将矩形窗函数x(t)平移0.5个采样间隔ts，以采样间隔ts进行采样，画出采样后时域 和频谱特性，并与（1）对比。"
   ]
  },
  {
   "cell_type": "code",
   "execution_count": 1,
   "metadata": {},
   "outputs": [],
   "source": [
    "import numpy as np\n",
    "import matplotlib.pyplot as plt\n",
    "import math"
   ]
  },
  {
   "cell_type": "markdown",
   "metadata": {},
   "source": [
    "作业中所有函数\n",
    "- ```window(t)``` 幅度为1，长度为10的矩形窗函数 \n",
    "- ```sampling(ts,initial_point,end_point)``` 采样函数, ts为采样间隔，initial_point为第一个采样点的时间坐标。\n",
    "- ```DFT(sample)``` 离散傅里叶变换，sample 为输入信号\n",
    "- ```filter(sample, ratio=0.1)``` 低通滤波器，ratio 为滤波后剩余的最高频率与原频率的比例。"
   ]
  },
  {
   "cell_type": "code",
   "execution_count": 2,
   "metadata": {},
   "outputs": [],
   "source": [
    "def window(t):\n",
    "    if t < 10 and t >= 0:\n",
    "        return 1\n",
    "    else:\n",
    "        return 0\n"
   ]
  },
  {
   "cell_type": "code",
   "execution_count": 3,
   "metadata": {},
   "outputs": [],
   "source": [
    "def sampling(ts,initial_point,end_point):\n",
    "    #ts: sampling time\n",
    "    #initial_point: initial point of the signal\n",
    "    #end_point: end point of the signal\n",
    "    #return: sampled sig\n",
    "    sample_sig = []\n",
    "    t = initial_point\n",
    "    while t <= end_point:  \n",
    "        sample_sig.append(window(t))\n",
    "        t += ts\n",
    "    return sample_sig\n"
   ]
  },
  {
   "cell_type": "markdown",
   "metadata": {},
   "source": [
    "```sample 1:``` 时间间隔 $t_s = 0.1$, 初始点为$t_0 = 0$，终止点为$t_n = 10$\n",
    "\n",
    "```sample 2:``` 时间间隔 $t_s = 0.1$, 初始点为$t_0 = 0.5t_s$，终止点为$t_n = 10+0.5t_s$"
   ]
  },
  {
   "cell_type": "code",
   "execution_count": 4,
   "metadata": {},
   "outputs": [],
   "source": [
    "# Sampling, sample1 is the sampled signal in question 1, sample2 is the sampled signal in question 2\n",
    "ts = 0.1\n",
    "end = 20\n",
    "sample1 = sampling(ts,0,end)\n",
    "sample2 = sampling(ts,-0.5*ts,end-0.5*ts)"
   ]
  },
  {
   "cell_type": "code",
   "execution_count": 5,
   "metadata": {},
   "outputs": [
    {
     "data": {
      "text/plain": [
       "[<matplotlib.lines.Line2D at 0x2a8e1cd8640>]"
      ]
     },
     "execution_count": 5,
     "metadata": {},
     "output_type": "execute_result"
    },
    {
     "data": {
      "image/png": "[encoded data removed]",
      "text/plain": [
       "<Figure size 432x288 with 2 Axes>"
      ]
     },
     "metadata": {
      "needs_background": "light"
     },
     "output_type": "display_data"
    }
   ],
   "source": [
    "# Plot the sampled signal\n",
    "plt.subplot(211)\n",
    "plt.plot(sample1)\n",
    "plt.subplot(212)\n",
    "plt.plot(sample2)"
   ]
  },
  {
   "cell_type": "markdown",
   "metadata": {},
   "source": [
    "利用 ```np.fft.fft()``` 对信号 ```sample 1,sample 2``` 进行傅里叶变换，并画出频谱特性。"
   ]
  },
  {
   "cell_type": "code",
   "execution_count": 6,
   "metadata": {},
   "outputs": [
    {
     "data": {
      "text/plain": [
       "[<matplotlib.lines.Line2D at 0x2a8e1e306a0>]"
      ]
     },
     "execution_count": 6,
     "metadata": {},
     "output_type": "execute_result"
    },
    {
     "data": {
      "image/png": "[encoded data removed]",
      "text/plain": [
       "<Figure size 432x288 with 2 Axes>"
      ]
     },
     "metadata": {
      "needs_background": "light"
     },
     "output_type": "display_data"
    }
   ],
   "source": [
    "# fft of the sampled signal\n",
    "def DFT(sample):\n",
    "    fft_sample = np.fft.fft(sample)\n",
    "    fft_sample = np.fft.fftshift(fft_sample)\n",
    "    fft_sample = abs(fft_sample)\n",
    "    return fft_sample\n",
    "    \n",
    "fft_sample1 = DFT(sample1)\n",
    "fft_sample2 = DFT(sample2)\n",
    "\n",
    "# Plot the fft of the sampled signal\n",
    "plt.subplot(221)\n",
    "plt.plot(fft_sample1)\n",
    "plt.subplot(222)\n",
    "plt.plot(fft_sample2)\n"
   ]
  },
  {
   "cell_type": "markdown",
   "metadata": {},
   "source": [
    "从图像中可以看出，时移$0.5t_s$前后，DFT几乎没有差别。"
   ]
  },
  {
   "cell_type": "markdown",
   "metadata": {},
   "source": [
    "## (3) 低通滤波器\n",
    "将矩形窗函数x(t)平移0.5个采样间隔ts，通过一个合适的低通滤波器后再以采样间 隔ts进行采样，画出采样后时域和频谱特性，并与（1）、（2）对比。\n",
    "\n",
    "ratio 为滤波后剩余的最高频率与原频率的比例，此处选用 ratio = 0.1"
   ]
  },
  {
   "cell_type": "code",
   "execution_count": 7,
   "metadata": {},
   "outputs": [
    {
     "name": "stderr",
     "output_type": "stream",
     "text": [
      "D:\\CodeWorld\\Anaconda\\lib\\site-packages\\numpy\\core\\_asarray.py:102: ComplexWarning: Casting complex values to real discards the imaginary part\n",
      "  return array(a, dtype, copy=False, order=order)\n"
     ]
    },
    {
     "data": {
      "text/plain": [
       "[<matplotlib.lines.Line2D at 0x2a8e1ea4970>]"
      ]
     },
     "execution_count": 7,
     "metadata": {},
     "output_type": "execute_result"
    },
    {
     "data": {
      "image/png": "[encoded data removed]",
      "text/plain": [
       "<Figure size 432x288 with 1 Axes>"
      ]
     },
     "metadata": {
      "needs_background": "light"
     },
     "output_type": "display_data"
    }
   ],
   "source": [
    "def filter(sample, ratio=0.1):\n",
    "\n",
    "    fft_sample = np.fft.fft(sample)\n",
    "    fft_sample[int(len(fft_sample)*ratio):len(fft_sample)] = 0\n",
    "    sample = np.fft.ifft(fft_sample)\n",
    "    return sample\n",
    "\n",
    "plt.plot(filter(sample1))"
   ]
  },
  {
   "cell_type": "markdown",
   "metadata": {},
   "source": [
    "## (4) 公式推导\n",
    "\n",
    "### (4.1) Time and Frequency Domain after Sampling\n",
    "\n",
    "1. Time Domain\n",
    "$$\n",
    "\\begin{aligned}\n",
    "&x(t)=\\operatorname{rect}\\left(\\frac{t-10}{10}\\right) \\quad s(t)=\\sum_{n=-\\infty}^{\\infty} \\delta\\left(t-n t_{s}\\right) \\\\\n",
    "&y(t)=x(t) \\cdot s(t)=\\sum_{n=-\\infty}^{+\\infty} x\\left(n t_{s}\\right) \\delta\\left(t-n t_{s}\\right)\n",
    "\\end{aligned}\n",
    "$$\n",
    "\n",
    "2. Frequency Domain\n",
    "$$\n",
    "   \\begin{aligned}\n",
    "&x(t)=\\operatorname{rect}\\left(\\frac{t-10}{10}\\right) \\quad s(t)=10 \\mathrm{Sa}(\\mathrm{sw}) \\cdot e^{-10 j \\omega} \\\\\n",
    "&y(t)=\\operatorname{rect}\\left(\\frac{t}{10}-1\\right) \\cdot \\sum_{n=-\\infty}^{+\\infty} \\delta\\left(t-n t_{s}\\right) \\\\\n",
    "&\\leftrightarrow \\operatorname{10Sa}(\\mathrm{5w}) \\cdot e^{-10 j \\omega} \\cdot \\sum_{n=-\\infty}^{+\\infty}\\left(w-w_{s}\\right)\n",
    "\\end{aligned}\n",
    "$$\n",
    "\n",
    "### (4.2) Fourier Transform after time shifting\n",
    "$$\n",
    "\\begin{aligned}\n",
    "&\\text { Time shift: } \\\\\n",
    "&y^{\\prime}(t)=x(t-0.5 t s) \\cdot \\sum_{n=-\\infty}^{+\\infty} \\delta\\left(t-n t_{s}\\right) \\\\\n",
    "&Y{(w)}^{\\prime}=X(w) \\cdot e^{-\\frac{1}{2} j w t_{s}} \\cdot \\sum_{n=-\\infty}^{+\\infty} \\delta\\left(t-n t_{s}\\right) \\\\\n",
    "&\\because t_{s \\rightarrow 0} \\\\\n",
    "&\\therefore e^{-\\frac{1}{2} j w t_{s}} \\rightarrow e^{0}=1 \\\\\n",
    "&\\therefore Y^{\\prime}(w) \\approx X(w) \\cdot \\sum_{n=-\\infty}^{+\\infty} \\delta(t-n t s)=Y(w)\n",
    "\\end{aligned}\n",
    "$$\n",
    "\n",
    "时域上的采样是频域 (Sinc Function) 关于 $w_s$ 的周期延拓。\n",
    "### (4.3) Low Pass Filter\n",
    "$$\n",
    "\\begin{aligned}\n",
    "&x(t)=\\operatorname{rect}\\left(\\frac{t-10}{10}\\right) \\\\\n",
    "&X(\\omega)=10 \\mathrm{Sa}(\\mathrm{5 \\omega}) \\cdot e^{-10 j \\omega} \\\\\n",
    "&X(\\omega) \\stackrel{\\text { low pass filter }}{\\longrightarrow} X(\\omega) \\cdot \\operatorname{rect}\\left(\\frac{\\omega-\\omega_{\\text {limit }}}{\\omega_{\\text {max }}}\\right) \\\\\n",
    "&x(t) \\stackrel{\\text { low pass filter }}{\\longrightarrow} x(t) * k_{1} \\mathrm{Sa}\\left(k_{2} t\\right) \\cdot e^{j k_{3} t}\n",
    "\\end{aligned}\n",
    "$$\n",
    "\n",
    "通过滤去高通成分，当信号出现剧烈变化时，只有低通成分的作用会使滤波后的信号会更加平滑。\n",
    "\n"
   ]
  }
 ],
 "metadata": {
  "interpreter": {
   "hash": "fbf86b6052c5b801572f83e7c9318a688261ae17e98144ae1452146dd8e5ad5c"
  },
  "kernelspec": {
   "display_name": "Python [conda env:root] *",
   "language": "python",
   "name": "conda-root-py"
  },
  "language_info": {
   "codemirror_mode": {
    "name": "ipython",
    "version": 3
   },
   "file_extension": ".py",
   "mimetype": "text/x-python",
   "name": "python",
   "nbconvert_exporter": "python",
   "pygments_lexer": "ipython3",
   "version": "3.8.8"
  }
 },
 "nbformat": 4,
 "nbformat_minor": 2
}
